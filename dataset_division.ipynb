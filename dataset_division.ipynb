{
 "cells": [
  {
   "cell_type": "code",
   "execution_count": 1,
   "id": "242a2f79",
   "metadata": {},
   "outputs": [],
   "source": [
    "import os\n",
    "import random\n",
    "import shutil"
   ]
  },
  {
   "cell_type": "code",
   "execution_count": 3,
   "id": "6486535c",
   "metadata": {},
   "outputs": [],
   "source": [
    "source=\"Snake Gourd-Dataset/Augmented Dataset\""
   ]
  },
  {
   "cell_type": "code",
   "execution_count": 4,
   "id": "5731e7f3",
   "metadata": {},
   "outputs": [],
   "source": [
    "output_folders={\n",
    "    \"train\":\"train\",\n",
    "    \"test\": \"test\",\n",
    "    \"validation\": \"validation\"\n",
    "}"
   ]
  },
  {
   "cell_type": "code",
   "execution_count": 5,
   "id": "83e8ea67",
   "metadata": {},
   "outputs": [],
   "source": [
    "split_ratio={\n",
    "    \"train\": 0.7,\n",
    "    \"test\": 0.2,\n",
    "    \"validation\": 0.1\n",
    "}"
   ]
  },
  {
   "cell_type": "code",
   "execution_count": 6,
   "id": "dc44311b",
   "metadata": {},
   "outputs": [],
   "source": [
    "for folder in output_folders.values():\n",
    "    os.makedirs(folder,exist_ok=True)"
   ]
  },
  {
   "cell_type": "code",
   "execution_count": null,
   "id": "c714ebd1",
   "metadata": {},
   "outputs": [
    {
     "name": "stdout",
     "output_type": "stream",
     "text": [
      "Spliting done\n"
     ]
    }
   ],
   "source": [
    "for class_name in os.listdir(source):\n",
    "    class_path=os.path.join(source, class_name)\n",
    "    if not os.path.isdir(class_path):\n",
    "        continue\n",
    "    \n",
    "    files = os.listdir(class_path)\n",
    "    random.shuffle(files)\n",
    "    \n",
    "    total = len(files)\n",
    "    train_end = int(total*split_ratio[\"train\"])\n",
    "    test_end = train_end +int(total*split_ratio[\"test\"])\n",
    "    \n",
    "    split_files = {\n",
    "        \"train\": files[:train_end],\n",
    "        \"test\": files[train_end:test_end],\n",
    "        \"validation\": files[test_end:]\n",
    "    }\n",
    "\n",
    "    for split, split_list in split_files.items():\n",
    "        split_class_dir = os.path.join(output_folders[split],class_name)\n",
    "        os.makedirs(split_class_dir, exist_ok=True)\n",
    "        \n",
    "        for file_name in split_list:\n",
    "            src = os.path.join(class_path,file_name)\n",
    "            dst=os.path.join(split_class_dir, file_name)\n",
    "            shutil.copy2(src,dst)\n",
    "            \n",
    "            \n",
    "            \n",
    "print(\"Spliting done\")\n",
    "\n",
    "    \n",
    "    "
   ]
  }
 ],
 "metadata": {
  "kernelspec": {
   "display_name": "venv (3.13.5)",
   "language": "python",
   "name": "python3"
  },
  "language_info": {
   "codemirror_mode": {
    "name": "ipython",
    "version": 3
   },
   "file_extension": ".py",
   "mimetype": "text/x-python",
   "name": "python",
   "nbconvert_exporter": "python",
   "pygments_lexer": "ipython3",
   "version": "3.13.5"
  }
 },
 "nbformat": 4,
 "nbformat_minor": 5
}
